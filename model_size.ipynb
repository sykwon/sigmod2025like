{
 "cells": [
  {
   "cell_type": "code",
   "execution_count": 1,
   "metadata": {},
   "outputs": [],
   "source": [
    "%load_ext autoreload\n",
    "%autoreload 2"
   ]
  },
  {
   "cell_type": "code",
   "execution_count": 2,
   "metadata": {},
   "outputs": [],
   "source": [
    "import os\n",
    "import yaml\n",
    "import pandas as pd\n",
    "from IPython.display import display\n",
    "import src.util as ut\n",
    "import matplotlib.pyplot as plt\n",
    "import shutil\n",
    "import numpy as np\n",
    "res_dir = 'res_agg/' # 'res/'"
   ]
  },
  {
   "cell_type": "code",
   "execution_count": 3,
   "metadata": {},
   "outputs": [],
   "source": [
    "model_size_dict = {\n",
    "    \"WIKI\": {\n",
    "        \"Astrid\": 1000,\n",
    "        \"LPLM20\": 1000,\n",
    "        \"CLIQUE\": 1000,\n",
    "    },\n",
    "    \"IMDB\": {\n",
    "        \"Astrid\": 1000,\n",
    "        \"LPLM20\": 1000,\n",
    "        \"CLIQUE\": 1000,\n",
    "    },\n",
    "    \"DBLP\": {\n",
    "        \"Astrid\": 699699,\n",
    "        \"LPLM20\": 1000,\n",
    "        \"CLIQUE\": 1000,\n",
    "    },\n",
    "    \"GENE\": {\n",
    "        \"Astrid\": 337203,\n",
    "        \"LPLM20\": 1000,\n",
    "        \"CLIQUE\": 1000,\n",
    "    },\n",
    "    \"AUTHOR\": {\n",
    "        \"Astrid\": 638259,\n",
    "        \"LPLM20\": 1000,\n",
    "        \"CLIQUE\": 1000,\n",
    "    },\n",
    "    (\"WIKI\", \"Astrid\"): 1000,\n",
    "    (\"IMDB\", \"Astrid\"): 1000,\n",
    "    (\"DBLP\", \"Astrid\"): 1000,\n",
    "    (\"GENE\", \"Astrid\"): 1000,\n",
    "    (\"AUTHOR\", \"Astrid\"): 1000,\n",
    "}"
   ]
  },
  {
   "cell_type": "code",
   "execution_count": null,
   "metadata": {},
   "outputs": [],
   "source": [
    "\"res_agg/\"\n",
    "\n"
   ]
  }
 ],
 "metadata": {
  "kernelspec": {
   "display_name": "clique",
   "language": "python",
   "name": "python3"
  },
  "language_info": {
   "codemirror_mode": {
    "name": "ipython",
    "version": 3
   },
   "file_extension": ".py",
   "mimetype": "text/x-python",
   "name": "python",
   "nbconvert_exporter": "python",
   "pygments_lexer": "ipython3",
   "version": "3.9.19"
  }
 },
 "nbformat": 4,
 "nbformat_minor": 2
}
